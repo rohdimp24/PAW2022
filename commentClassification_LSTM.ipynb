{
 "cells": [
  {
   "cell_type": "markdown",
   "id": "adeda48d",
   "metadata": {},
   "source": [
    "## Comment Classification using LSTM\n",
    "We will be using the LSTM to classify the review comments. \n"
   ]
  },
  {
   "cell_type": "code",
   "execution_count": 5,
   "id": "59e27137",
   "metadata": {},
   "outputs": [
    {
     "data": {
      "text/plain": [
       "<torch._C.Generator at 0x7fd5ff4affd8>"
      ]
     },
     "execution_count": 5,
     "metadata": {},
     "output_type": "execute_result"
    }
   ],
   "source": [
    "# Import Library\n",
    "import random\n",
    "import torch, torchtext\n",
    "from torchtext.legacy import data \n",
    "import re\n",
    "import spacy\n",
    "import torch.nn as nn\n",
    "import pandas as pd\n",
    "import numpy as np\n",
    "import re\n",
    "import spacy\n",
    "from collections import Counter\n",
    "from torch.utils.data import Dataset, DataLoader\n",
    "import torch.nn.functional as F\n",
    "import string\n",
    "import matplotlib.pyplot as plt\n",
    "from  matplotlib.ticker import FuncFormatter\n",
    "from torch.utils.tensorboard import SummaryWriter\n",
    "%matplotlib inline\n",
    "import seaborn as sns\n",
    "# Manual Seed\n",
    "SEED = 43\n",
    "torch.manual_seed(SEED)"
   ]
  },
  {
   "cell_type": "code",
   "execution_count": 6,
   "id": "8a575b97",
   "metadata": {},
   "outputs": [
    {
     "data": {
      "text/plain": [
       "BUGGYCODE_SUGGESTION        988\n",
       "REFACTORING_SUGGESTION      925\n",
       "CODE_SUGGESTION             906\n",
       "QUESTIONING                 545\n",
       "COMPLETENESS_SUGGESTION     417\n",
       "LOGISTICS_SUGGESTION        350\n",
       "LOGICAL_SUGGESTION          316\n",
       "SPELLING_SUGGESTION         217\n",
       "REUSE_SUGGESTION             64\n",
       "DOCUMENTATION_SUGGESTION     36\n",
       "Name: commentClassification, dtype: int64"
      ]
     },
     "execution_count": 6,
     "metadata": {},
     "output_type": "execute_result"
    }
   ],
   "source": [
    "## Read the coments \n",
    "# The comments are of the form\n",
    "# \"commentId\",\"prId\",\"commentText\",\"author\",\"commentClassification\"\n",
    "\n",
    "import pandas as pd\n",
    "df = pd.read_csv('data/comments_all.csv')\n",
    "\n",
    "## we are considering only few types of the comments\n",
    "#df=df[df['commentClassification'].isin(['LOGISTICS_SUGGESTION','BUGGYCODE_SUGGESTION','COMPLETENESS_SUGGESTION','REFACTORING_SUGGESTION','CODE_SUGGESTION'])]\n",
    "df=df[df['commentClassification'].isin(['BUGGYCODE_SUGGESTION','REFACTORING_SUGGESTION','CODE_SUGGESTION','QUESTIONING',\n",
    "                    'COMPLETENESS_SUGGESTION','LOGISTICS_SUGGESTION','LOGICAL_SUGGESTION','SPELLING_SUGGESTION',\n",
    "                     'REUSE_SUGGESTION','DOCUMENTATION_SUGGESTION'])]\n",
    "df=df.reset_index()\n",
    "df.commentClassification.value_counts()"
   ]
  },
  {
   "cell_type": "code",
   "execution_count": 7,
   "id": "ff0bcef4",
   "metadata": {},
   "outputs": [],
   "source": [
    "## define a tokeinzer that will be used to tokeinze the comments text\n",
    "tok = spacy.load(\"en_core_web_sm\")\n",
    "def tokenizer (text):\n",
    "    text = re.sub(r\"[^\\x00-\\x7F]+\", \" \", text)\n",
    "    regex = re.compile('[' + re.escape(string.punctuation) + '0-9\\\\r\\\\t\\\\n]') # remove punctuation and numbers\n",
    "    nopunct = regex.sub(\" \", text.lower())\n",
    "    return [token.text for token in tok.tokenizer(nopunct)]"
   ]
  },
  {
   "cell_type": "code",
   "execution_count": 8,
   "id": "37783b8a",
   "metadata": {},
   "outputs": [],
   "source": [
    "Comment = data.Field(sequential = True, tokenize = tokenizer, batch_first =False, include_lengths=True)\n",
    "Label = data.LabelField(tokenize =tokenizer, is_target=True, batch_first =False, sequential =False)\n",
    "\n",
    "fields = [('commentText', Comment),('commentClassification',Label)]\n"
   ]
  },
  {
   "cell_type": "code",
   "execution_count": 9,
   "id": "c0c998d6",
   "metadata": {},
   "outputs": [],
   "source": [
    "##converting the data in the form of comment,Label\n",
    "example = [data.Example.fromlist([df.commentText[i],df.commentClassification[i]], fields) for i in range(df.shape[0])]\n",
    "commentDataset = data.Dataset(example, fields)\n"
   ]
  },
  {
   "cell_type": "code",
   "execution_count": 10,
   "id": "4be79987",
   "metadata": {},
   "outputs": [
    {
     "name": "stdout",
     "output_type": "stream",
     "text": [
      "3898 823 43\n"
     ]
    }
   ],
   "source": [
    "## split the data into train, validation,test\n",
    "(train, valid,test) = commentDataset.split(split_ratio=[0.90, 0.01,0.19], random_state=random.seed(SEED))\n",
    "print(len(train), len(valid),len(test))"
   ]
  },
  {
   "cell_type": "code",
   "execution_count": 11,
   "id": "b1333e11",
   "metadata": {},
   "outputs": [
    {
     "data": {
      "text/plain": [
       "{'commentText': ['what', 'does', '   ', 'means', ' '],\n",
       " 'commentClassification': 'BUGGYCODE_SUGGESTION'}"
      ]
     },
     "execution_count": 11,
     "metadata": {},
     "output_type": "execute_result"
    }
   ],
   "source": [
    "##check the first training example\n",
    "vars(train.examples[1])"
   ]
  },
  {
   "cell_type": "code",
   "execution_count": 12,
   "id": "12364d78",
   "metadata": {},
   "outputs": [],
   "source": [
    "## Convert the tokens to vectors and build a vocabulary..we are using the glove encoding\n",
    "Comment.build_vocab(train, valid,test, vectors = \"glove.6B.100d\", unk_init = torch.Tensor.normal_)\n",
    "Label.build_vocab(train)"
   ]
  },
  {
   "cell_type": "code",
   "execution_count": 13,
   "id": "80e570b7",
   "metadata": {},
   "outputs": [
    {
     "name": "stdout",
     "output_type": "stream",
     "text": [
      "Size of input vocab :  4357\n",
      "Size of label vocab :  10\n",
      "Top 10 words appreared repeatedly : [(' ', 5814), ('  ', 2972), ('the', 1942), ('   ', 1871), ('this', 1531), ('please', 1418), ('we', 1260), ('it', 1155), ('a', 1151), ('is', 1123)]\n",
      "Labels :  defaultdict(None, {'BUGGYCODE_SUGGESTION': 0, 'REFACTORING_SUGGESTION': 1, 'CODE_SUGGESTION': 2, 'QUESTIONING': 3, 'COMPLETENESS_SUGGESTION': 4, 'LOGISTICS_SUGGESTION': 5, 'LOGICAL_SUGGESTION': 6, 'SPELLING_SUGGESTION': 7, 'REUSE_SUGGESTION': 8, 'DOCUMENTATION_SUGGESTION': 9})\n"
     ]
    }
   ],
   "source": [
    "print('Size of input vocab : ', len(Comment.vocab))\n",
    "print('Size of label vocab : ', len(Label.vocab))\n",
    "print('Top 10 words appreared repeatedly :', list(Comment.vocab.freqs.most_common(10)))\n",
    "print('Labels : ', Label.vocab.stoi)"
   ]
  },
  {
   "cell_type": "code",
   "execution_count": 14,
   "id": "5b4d50d4",
   "metadata": {},
   "outputs": [],
   "source": [
    "## check for the gpu and use it if present\n",
    "device = torch.device(\"cuda\" if torch.cuda.is_available() else \"cpu\")"
   ]
  },
  {
   "cell_type": "code",
   "execution_count": 15,
   "id": "a1ce6b8d",
   "metadata": {},
   "outputs": [],
   "source": [
    "## create the iterators from the train, test , validation set\n",
    "train_iterator, valid_iterator,test_iterator = data.BucketIterator.splits((train, valid,test), batch_size = 32, \n",
    "                                                            sort_key = lambda x: len(x.commentText),\n",
    "                                                            sort_within_batch=True, device = device)"
   ]
  },
  {
   "cell_type": "markdown",
   "id": "b2935a31",
   "metadata": {},
   "source": [
    "###  network definition"
   ]
  },
  {
   "cell_type": "code",
   "execution_count": 16,
   "id": "00f50f49",
   "metadata": {},
   "outputs": [],
   "source": [
    "import torch.nn as nn\n",
    "import torch.nn.functional as F\n",
    "\n",
    "class classifier(nn.Module):\n",
    "    \n",
    "    # Define all the layers used in model\n",
    "    def __init__(self, vocab_size, embedding_dim, hidden_dim, output_dim, n_layers, dropout):\n",
    "        \n",
    "        super().__init__()          \n",
    "        \n",
    "        # Embedding layer\n",
    "        self.embedding = nn.Embedding(vocab_size, embedding_dim)\n",
    "        \n",
    "        # LSTM layer\n",
    "        self.encoder = nn.LSTM(embedding_dim, \n",
    "                           hidden_dim, \n",
    "                           num_layers=n_layers, \n",
    "                           dropout=dropout,batch_first=False)\n",
    "        \n",
    "        # Dense layer\n",
    "        self.fc = nn.Linear(hidden_dim*2, output_dim)\n",
    "        \n",
    "    def forward(self, text, text_lengths):\n",
    "        # text = [batch size, sent_length]\n",
    "        \n",
    "        embedded = self.embedding(text)\n",
    "        # embedded = [batch size, sent_len, emb dim]\n",
    "\n",
    "        output, (hidden, cell) = self.encoder(embedded)\n",
    "        #hidden = [batch size, num layers * num directions,hid dim]\n",
    "        #cell = [batch size, num layers * num directions,hid dim]\n",
    "        \n",
    "        hidden = torch.cat((hidden[-2,:,:], hidden[-1,:,:]), dim = 1)#...when the bidirectional is true..also the number of dimention dimention is left\n",
    "        # Hidden = [batch size, hid dim * num directions]\n",
    "        \n",
    "        dense_outputs = self.fc(hidden)   \n",
    "        \n",
    "        # Final activation function softmax\n",
    "        output = F.softmax(dense_outputs, dim=1)\n",
    "            \n",
    "        return output"
   ]
  },
  {
   "cell_type": "code",
   "execution_count": 17,
   "id": "631f7bde",
   "metadata": {},
   "outputs": [
    {
     "name": "stdout",
     "output_type": "stream",
     "text": [
      "torch.Size([4357, 100])\n"
     ]
    }
   ],
   "source": [
    "pretrained_embeddings = Comment.vocab.vectors\n",
    "\n",
    "print(pretrained_embeddings.shape)"
   ]
  },
  {
   "cell_type": "code",
   "execution_count": 18,
   "id": "6bf5de24",
   "metadata": {},
   "outputs": [],
   "source": [
    "# Define hyperparameters\n",
    "size_of_vocab = len(Comment.vocab)\n",
    "embedding_dim = 100\n",
    "num_hidden_nodes = 100\n",
    "num_output_nodes = 10\n",
    "num_layers = 2\n",
    "dropout = 0.2\n",
    "\n",
    "# Instantiate the model\n",
    "model = classifier(size_of_vocab, embedding_dim, num_hidden_nodes, num_output_nodes, num_layers, dropout = dropout)"
   ]
  },
  {
   "cell_type": "code",
   "execution_count": 19,
   "id": "7f31296e",
   "metadata": {},
   "outputs": [
    {
     "data": {
      "text/plain": [
       "tensor([[-0.0166, -0.4668,  2.0909,  ..., -1.4692,  0.4476, -0.7223],\n",
       "        [-0.0791, -0.2089, -0.3442,  ...,  0.4657,  0.6297, -1.7395],\n",
       "        [ 1.6592, -0.1411, -1.2852,  ...,  1.6803, -0.7856, -0.8160],\n",
       "        ...,\n",
       "        [-0.2309, -0.4129,  0.2818,  ...,  0.5106, -0.4050,  0.5735],\n",
       "        [-1.4407, -1.4629,  1.2226,  ..., -1.9031, -0.0889, -0.4963],\n",
       "        [ 0.9829, -0.8564,  0.0730,  ..., -0.5304,  1.1437, -0.4599]])"
      ]
     },
     "execution_count": 19,
     "metadata": {},
     "output_type": "execute_result"
    }
   ],
   "source": [
    "## making use of the pretrained embeddings ..these are the glove trained embeddings\n",
    "pretrained_embeddings = Comment.vocab.vectors\n",
    "model.embedding.weight.data.copy_(pretrained_embeddings)"
   ]
  },
  {
   "cell_type": "code",
   "execution_count": 20,
   "id": "06abe6b1",
   "metadata": {},
   "outputs": [
    {
     "name": "stdout",
     "output_type": "stream",
     "text": [
      "classifier(\n",
      "  (embedding): Embedding(4357, 100)\n",
      "  (encoder): LSTM(100, 100, num_layers=2, dropout=0.2)\n",
      "  (fc): Linear(in_features=200, out_features=10, bias=True)\n",
      ")\n",
      "The model has 599,310 trainable parameters\n"
     ]
    }
   ],
   "source": [
    "print(model)\n",
    "\n",
    "#No. of trianable parameters\n",
    "def count_parameters(model):\n",
    "    return sum(p.numel() for p in model.parameters() if p.requires_grad)\n",
    "    \n",
    "print(f'The model has {count_parameters(model):,} trainable parameters')"
   ]
  },
  {
   "cell_type": "code",
   "execution_count": 21,
   "id": "5e4d19e7",
   "metadata": {},
   "outputs": [],
   "source": [
    "import torch.optim as optim\n",
    "\n",
    "# define optimizer and loss\n",
    "optimizer = optim.Adam(model.parameters(), lr=2e-4)\n",
    "criterion = nn.CrossEntropyLoss()\n",
    "\n",
    "# define metric\n",
    "def binary_accuracy(preds, y):\n",
    "    #round predictions to the closest integer\n",
    "    _, predictions = torch.max(preds, 1)\n",
    "    \n",
    "    correct = (predictions == y).float() \n",
    "    acc = correct.sum() / len(correct)\n",
    "    return acc\n",
    "    \n",
    "# push to cuda if available\n",
    "model = model.to(device)\n",
    "criterion = criterion.to(device)"
   ]
  },
  {
   "cell_type": "markdown",
   "id": "acaab353",
   "metadata": {},
   "source": [
    "### the training loop"
   ]
  },
  {
   "cell_type": "code",
   "execution_count": 22,
   "id": "0e0fba59",
   "metadata": {},
   "outputs": [],
   "source": [
    "def train(model, iterator, optimizer, criterion):\n",
    "    \n",
    "    # initialize every epoch \n",
    "    epoch_loss = 0\n",
    "    epoch_acc = 0\n",
    "    \n",
    "    # set the model in training phase\n",
    "    model.train()  \n",
    "    \n",
    "    for batch in iterator:\n",
    "        \n",
    "        # resets the gradients after every batch\n",
    "        optimizer.zero_grad()   \n",
    "        \n",
    "        # retrieve text and no. of words\n",
    "        comment, comment_lengths = batch.commentText   \n",
    "        \n",
    "        # convert to 1D tensor\n",
    "        predictions = model(comment, comment_lengths).squeeze()  \n",
    "        \n",
    "        # compute the loss\n",
    "        loss = criterion(predictions, batch.commentClassification)        \n",
    "        \n",
    "        # compute the binary accuracy\n",
    "        acc = binary_accuracy(predictions, batch.commentClassification)   \n",
    "        \n",
    "        # backpropage the loss and compute the gradients\n",
    "        loss.backward()       \n",
    "        \n",
    "        # update the weights\n",
    "        optimizer.step()      \n",
    "        \n",
    "        # loss and accuracy\n",
    "        epoch_loss += loss.item()  \n",
    "        epoch_acc += acc.item()    \n",
    "        \n",
    "    return epoch_loss / len(iterator), epoch_acc / len(iterator)"
   ]
  },
  {
   "cell_type": "code",
   "execution_count": 23,
   "id": "9c227573",
   "metadata": {},
   "outputs": [],
   "source": [
    "def evaluate(model, iterator, criterion):\n",
    "    \n",
    "    # initialize every epoch\n",
    "    epoch_loss = 0\n",
    "    epoch_acc = 0\n",
    "\n",
    "    # deactivating dropout layers\n",
    "    model.eval()\n",
    "    \n",
    "    # deactivates autograd\n",
    "    with torch.no_grad():\n",
    "    \n",
    "        for batch in iterator:\n",
    "        \n",
    "            # retrieve text and no. of words\n",
    "            comment, comment_lengths = batch.commentText\n",
    "            \n",
    "            # convert to 1d tensor\n",
    "            predictions = model(comment, comment_lengths).squeeze()\n",
    "            \n",
    "            # compute loss and accuracy\n",
    "            loss = criterion(predictions, batch.commentClassification)\n",
    "            acc = binary_accuracy(predictions, batch.commentClassification)\n",
    "            \n",
    "            # keep track of loss and accuracy\n",
    "            epoch_loss += loss.item()\n",
    "            epoch_acc += acc.item()\n",
    "        \n",
    "    return epoch_loss / len(iterator), epoch_acc / len(iterator)"
   ]
  },
  {
   "cell_type": "markdown",
   "id": "eeee1b8d",
   "metadata": {},
   "source": [
    "### training"
   ]
  },
  {
   "cell_type": "code",
   "execution_count": 24,
   "id": "29c8d8b6",
   "metadata": {},
   "outputs": [
    {
     "name": "stdout",
     "output_type": "stream",
     "text": [
      "\t Epoch# 0\n",
      "\tTrain Loss: 2.255 | Train Acc: 21.75%\n",
      "\t Val. Loss: 2.207 |  Val. Acc: 21.63% \n",
      "\n",
      "\t Epoch# 1\n",
      "\tTrain Loss: 2.184 | Train Acc: 30.11%\n",
      "\t Val. Loss: 2.141 |  Val. Acc: 36.49% \n",
      "\n",
      "\t Epoch# 2\n",
      "\tTrain Loss: 2.113 | Train Acc: 35.66%\n",
      "\t Val. Loss: 2.103 |  Val. Acc: 36.01% \n",
      "\n",
      "\t Epoch# 3\n",
      "\tTrain Loss: 2.084 | Train Acc: 38.50%\n",
      "\t Val. Loss: 2.087 |  Val. Acc: 37.57% \n",
      "\n",
      "\t Epoch# 4\n",
      "\tTrain Loss: 2.069 | Train Acc: 39.82%\n",
      "\t Val. Loss: 2.084 |  Val. Acc: 37.01% \n",
      "\n",
      "\t Epoch# 5\n",
      "\tTrain Loss: 2.055 | Train Acc: 40.90%\n",
      "\t Val. Loss: 2.070 |  Val. Acc: 39.03% \n",
      "\n",
      "\t Epoch# 6\n",
      "\tTrain Loss: 2.044 | Train Acc: 42.06%\n",
      "\t Val. Loss: 2.079 |  Val. Acc: 36.87% \n",
      "\n",
      "\t Epoch# 7\n",
      "\tTrain Loss: 2.028 | Train Acc: 43.82%\n",
      "\t Val. Loss: 2.074 |  Val. Acc: 38.07% \n",
      "\n",
      "\t Epoch# 8\n",
      "\tTrain Loss: 2.022 | Train Acc: 44.30%\n",
      "\t Val. Loss: 2.058 |  Val. Acc: 40.07% \n",
      "\n",
      "\t Epoch# 9\n",
      "\tTrain Loss: 2.015 | Train Acc: 44.97%\n",
      "\t Val. Loss: 2.067 |  Val. Acc: 38.62% \n",
      "\n",
      "\t Epoch# 10\n",
      "\tTrain Loss: 2.005 | Train Acc: 46.06%\n",
      "\t Val. Loss: 2.058 |  Val. Acc: 39.99% \n",
      "\n",
      "\t Epoch# 11\n",
      "\tTrain Loss: 1.996 | Train Acc: 46.85%\n",
      "\t Val. Loss: 2.061 |  Val. Acc: 39.39% \n",
      "\n",
      "\t Epoch# 12\n",
      "\tTrain Loss: 2.000 | Train Acc: 46.55%\n",
      "\t Val. Loss: 2.054 |  Val. Acc: 40.76% \n",
      "\n",
      "\t Epoch# 13\n",
      "\tTrain Loss: 1.993 | Train Acc: 47.06%\n",
      "\t Val. Loss: 2.046 |  Val. Acc: 40.95% \n",
      "\n",
      "\t Epoch# 14\n",
      "\tTrain Loss: 1.982 | Train Acc: 47.98%\n",
      "\t Val. Loss: 2.068 |  Val. Acc: 39.51% \n",
      "\n",
      "\t Epoch# 15\n",
      "\tTrain Loss: 1.985 | Train Acc: 48.15%\n",
      "\t Val. Loss: 2.032 |  Val. Acc: 42.88% \n",
      "\n",
      "\t Epoch# 16\n",
      "\tTrain Loss: 1.962 | Train Acc: 50.51%\n",
      "\t Val. Loss: 2.024 |  Val. Acc: 44.20% \n",
      "\n",
      "\t Epoch# 17\n",
      "\tTrain Loss: 1.955 | Train Acc: 51.46%\n",
      "\t Val. Loss: 2.035 |  Val. Acc: 42.78% \n",
      "\n",
      "\t Epoch# 18\n",
      "\tTrain Loss: 1.953 | Train Acc: 51.39%\n",
      "\t Val. Loss: 2.021 |  Val. Acc: 44.11% \n",
      "\n",
      "\t Epoch# 19\n",
      "\tTrain Loss: 1.934 | Train Acc: 53.27%\n",
      "\t Val. Loss: 2.011 |  Val. Acc: 44.20% \n",
      "\n"
     ]
    }
   ],
   "source": [
    "N_EPOCHS = 20\n",
    "best_valid_loss = float('inf')\n",
    "tb=SummaryWriter()\n",
    "training_stats = []\n",
    "\n",
    "for epoch in range(N_EPOCHS):\n",
    "     \n",
    "    # train the model\n",
    "    train_loss, train_acc = train(model, train_iterator, optimizer, criterion)\n",
    "    \n",
    "    # evaluate the model\n",
    "    valid_loss, valid_acc = evaluate(model, valid_iterator, criterion)\n",
    "    \n",
    "    # save the best model\n",
    "    if valid_loss < best_valid_loss:\n",
    "        best_valid_loss = valid_loss\n",
    "        torch.save(model.state_dict(), 'saved_weights.pt')\n",
    "    print(f'\\t Epoch# {epoch}')\n",
    "    print(f'\\tTrain Loss: {train_loss:.3f} | Train Acc: {train_acc*100:.2f}%')\n",
    "    print(f'\\t Val. Loss: {valid_loss:.3f} |  Val. Acc: {valid_acc*100:.2f}% \\n')\n",
    "    \n",
    "    ## added to get the data in the tensorboard\n",
    "    tb.add_scalar('Train Loss',train_loss,epoch)\n",
    "    tb.add_scalar('Val Loss',valid_loss,epoch)\n",
    "    tb.add_scalar('Train Accuracy',train_acc,epoch)\n",
    "    tb.add_scalar('Val Accuracy',valid_acc,epoch)\n",
    "    training_stats.append(\n",
    "    {\n",
    "        'epoch': epoch,\n",
    "        'Train Loss': train_loss,\n",
    "        'Valid Loss': valid_loss,\n",
    "        'Train Accur':train_acc,\n",
    "        'Valid Accur': valid_acc\n",
    "        \n",
    "    })\n",
    "    \n",
    "    \n",
    "    ##TODO: GENERATE A GRAPH FOR THE TEST?TRAIN VALIDATION"
   ]
  },
  {
   "cell_type": "code",
   "execution_count": 25,
   "id": "3511e6fe",
   "metadata": {},
   "outputs": [
    {
     "data": {
      "text/html": [
       "<div>\n",
       "<style scoped>\n",
       "    .dataframe tbody tr th:only-of-type {\n",
       "        vertical-align: middle;\n",
       "    }\n",
       "\n",
       "    .dataframe tbody tr th {\n",
       "        vertical-align: top;\n",
       "    }\n",
       "\n",
       "    .dataframe thead th {\n",
       "        text-align: right;\n",
       "    }\n",
       "</style>\n",
       "<table border=\"1\" class=\"dataframe\">\n",
       "  <thead>\n",
       "    <tr style=\"text-align: right;\">\n",
       "      <th></th>\n",
       "      <th>Train Loss</th>\n",
       "      <th>Valid Loss</th>\n",
       "      <th>Train Accur</th>\n",
       "      <th>Valid Accur</th>\n",
       "    </tr>\n",
       "    <tr>\n",
       "      <th>epoch</th>\n",
       "      <th></th>\n",
       "      <th></th>\n",
       "      <th></th>\n",
       "      <th></th>\n",
       "    </tr>\n",
       "  </thead>\n",
       "  <tbody>\n",
       "    <tr>\n",
       "      <th>0</th>\n",
       "      <td>2.25</td>\n",
       "      <td>2.21</td>\n",
       "      <td>0.22</td>\n",
       "      <td>0.22</td>\n",
       "    </tr>\n",
       "    <tr>\n",
       "      <th>1</th>\n",
       "      <td>2.18</td>\n",
       "      <td>2.14</td>\n",
       "      <td>0.30</td>\n",
       "      <td>0.36</td>\n",
       "    </tr>\n",
       "    <tr>\n",
       "      <th>2</th>\n",
       "      <td>2.11</td>\n",
       "      <td>2.10</td>\n",
       "      <td>0.36</td>\n",
       "      <td>0.36</td>\n",
       "    </tr>\n",
       "    <tr>\n",
       "      <th>3</th>\n",
       "      <td>2.08</td>\n",
       "      <td>2.09</td>\n",
       "      <td>0.38</td>\n",
       "      <td>0.38</td>\n",
       "    </tr>\n",
       "    <tr>\n",
       "      <th>4</th>\n",
       "      <td>2.07</td>\n",
       "      <td>2.08</td>\n",
       "      <td>0.40</td>\n",
       "      <td>0.37</td>\n",
       "    </tr>\n",
       "    <tr>\n",
       "      <th>5</th>\n",
       "      <td>2.05</td>\n",
       "      <td>2.07</td>\n",
       "      <td>0.41</td>\n",
       "      <td>0.39</td>\n",
       "    </tr>\n",
       "    <tr>\n",
       "      <th>6</th>\n",
       "      <td>2.04</td>\n",
       "      <td>2.08</td>\n",
       "      <td>0.42</td>\n",
       "      <td>0.37</td>\n",
       "    </tr>\n",
       "    <tr>\n",
       "      <th>7</th>\n",
       "      <td>2.03</td>\n",
       "      <td>2.07</td>\n",
       "      <td>0.44</td>\n",
       "      <td>0.38</td>\n",
       "    </tr>\n",
       "    <tr>\n",
       "      <th>8</th>\n",
       "      <td>2.02</td>\n",
       "      <td>2.06</td>\n",
       "      <td>0.44</td>\n",
       "      <td>0.40</td>\n",
       "    </tr>\n",
       "    <tr>\n",
       "      <th>9</th>\n",
       "      <td>2.01</td>\n",
       "      <td>2.07</td>\n",
       "      <td>0.45</td>\n",
       "      <td>0.39</td>\n",
       "    </tr>\n",
       "    <tr>\n",
       "      <th>10</th>\n",
       "      <td>2.01</td>\n",
       "      <td>2.06</td>\n",
       "      <td>0.46</td>\n",
       "      <td>0.40</td>\n",
       "    </tr>\n",
       "    <tr>\n",
       "      <th>11</th>\n",
       "      <td>2.00</td>\n",
       "      <td>2.06</td>\n",
       "      <td>0.47</td>\n",
       "      <td>0.39</td>\n",
       "    </tr>\n",
       "    <tr>\n",
       "      <th>12</th>\n",
       "      <td>2.00</td>\n",
       "      <td>2.05</td>\n",
       "      <td>0.47</td>\n",
       "      <td>0.41</td>\n",
       "    </tr>\n",
       "    <tr>\n",
       "      <th>13</th>\n",
       "      <td>1.99</td>\n",
       "      <td>2.05</td>\n",
       "      <td>0.47</td>\n",
       "      <td>0.41</td>\n",
       "    </tr>\n",
       "    <tr>\n",
       "      <th>14</th>\n",
       "      <td>1.98</td>\n",
       "      <td>2.07</td>\n",
       "      <td>0.48</td>\n",
       "      <td>0.40</td>\n",
       "    </tr>\n",
       "    <tr>\n",
       "      <th>15</th>\n",
       "      <td>1.98</td>\n",
       "      <td>2.03</td>\n",
       "      <td>0.48</td>\n",
       "      <td>0.43</td>\n",
       "    </tr>\n",
       "    <tr>\n",
       "      <th>16</th>\n",
       "      <td>1.96</td>\n",
       "      <td>2.02</td>\n",
       "      <td>0.51</td>\n",
       "      <td>0.44</td>\n",
       "    </tr>\n",
       "    <tr>\n",
       "      <th>17</th>\n",
       "      <td>1.96</td>\n",
       "      <td>2.04</td>\n",
       "      <td>0.51</td>\n",
       "      <td>0.43</td>\n",
       "    </tr>\n",
       "    <tr>\n",
       "      <th>18</th>\n",
       "      <td>1.95</td>\n",
       "      <td>2.02</td>\n",
       "      <td>0.51</td>\n",
       "      <td>0.44</td>\n",
       "    </tr>\n",
       "    <tr>\n",
       "      <th>19</th>\n",
       "      <td>1.93</td>\n",
       "      <td>2.01</td>\n",
       "      <td>0.53</td>\n",
       "      <td>0.44</td>\n",
       "    </tr>\n",
       "  </tbody>\n",
       "</table>\n",
       "</div>"
      ],
      "text/plain": [
       "       Train Loss  Valid Loss  Train Accur  Valid Accur\n",
       "epoch                                                  \n",
       "0            2.25        2.21         0.22         0.22\n",
       "1            2.18        2.14         0.30         0.36\n",
       "2            2.11        2.10         0.36         0.36\n",
       "3            2.08        2.09         0.38         0.38\n",
       "4            2.07        2.08         0.40         0.37\n",
       "5            2.05        2.07         0.41         0.39\n",
       "6            2.04        2.08         0.42         0.37\n",
       "7            2.03        2.07         0.44         0.38\n",
       "8            2.02        2.06         0.44         0.40\n",
       "9            2.01        2.07         0.45         0.39\n",
       "10           2.01        2.06         0.46         0.40\n",
       "11           2.00        2.06         0.47         0.39\n",
       "12           2.00        2.05         0.47         0.41\n",
       "13           1.99        2.05         0.47         0.41\n",
       "14           1.98        2.07         0.48         0.40\n",
       "15           1.98        2.03         0.48         0.43\n",
       "16           1.96        2.02         0.51         0.44\n",
       "17           1.96        2.04         0.51         0.43\n",
       "18           1.95        2.02         0.51         0.44\n",
       "19           1.93        2.01         0.53         0.44"
      ]
     },
     "execution_count": 25,
     "metadata": {},
     "output_type": "execute_result"
    }
   ],
   "source": [
    "import pandas as pd\n",
    "\n",
    "# Display floats with two decimal places.\n",
    "pd.set_option('precision', 2)\n",
    "\n",
    "# Create a DataFrame from our training statistics.\n",
    "df_stats = pd.DataFrame(data=training_stats)\n",
    "\n",
    "# Use the 'epoch' as the row index.\n",
    "df_stats = df_stats.set_index('epoch')\n",
    "\n",
    "# A hack to force the column headers to wrap.\n",
    "#df = df.style.set_table_styles([dict(selector=\"th\",props=[('max-width', '70px')])])\n",
    "\n",
    "# Display the table.\n",
    "df_stats"
   ]
  },
  {
   "cell_type": "code",
   "execution_count": 26,
   "id": "46320441",
   "metadata": {},
   "outputs": [
    {
     "data": {
      "image/png": "[encoded data removed]",
      "text/plain": [
       "<Figure size 864x432 with 1 Axes>"
      ]
     },
     "metadata": {},
     "output_type": "display_data"
    }
   ],
   "source": [
    "\n",
    "# Use plot styling from seaborn.\n",
    "sns.set(style='darkgrid')\n",
    "# Increase the plot size and font size.\n",
    "sns.set(font_scale=1.5)\n",
    "plt.rcParams[\"figure.figsize\"] = (12,6)\n",
    "\n",
    "# Plot the learning curve.\n",
    "plt.plot(df_stats['Train Loss'], 'b-o', label=\"Training\")\n",
    "plt.plot(df_stats['Valid Loss'], 'g-o', label=\"Validation\")\n",
    "\n",
    "# Label the plot.\n",
    "plt.title(\"Training & Validation Loss\")\n",
    "plt.xlabel(\"Epoch\")\n",
    "plt.ylabel(\"Loss\")\n",
    "plt.legend()\n",
    "plt.gca().xaxis.set_major_formatter(FuncFormatter(lambda x, _: int(x+1)))\n",
    "plt.show()"
   ]
  },
  {
   "cell_type": "code",
   "execution_count": 27,
   "id": "15daae2f",
   "metadata": {},
   "outputs": [
    {
     "data": {
      "image/png": "[encoded data removed]",
      "text/plain": [
       "<Figure size 864x432 with 1 Axes>"
      ]
     },
     "metadata": {},
     "output_type": "display_data"
    }
   ],
   "source": [
    "# Use plot styling from seaborn.\n",
    "sns.set(style='darkgrid')\n",
    "# Increase the plot size and font size.\n",
    "sns.set(font_scale=1.5)\n",
    "plt.rcParams[\"figure.figsize\"] = (12,6)\n",
    "\n",
    "# Plot the learning curve.\n",
    "plt.plot(df_stats['Train Accur'], 'b-o', label=\"Training\")\n",
    "plt.plot(df_stats['Valid Accur'], 'g-o', label=\"Validation\")\n",
    "\n",
    "# Label the plot.\n",
    "plt.title(\"Training & Validation Accuracy\")\n",
    "plt.xlabel(\"Epoch\")\n",
    "plt.ylabel(\"Loss\")\n",
    "plt.legend()\n",
    "plt.gca().xaxis.set_major_formatter(FuncFormatter(lambda x, _: int(x+1)))\n",
    "plt.show()"
   ]
  },
  {
   "cell_type": "code",
   "execution_count": 22,
   "id": "e93ec8a0",
   "metadata": {},
   "outputs": [
    {
     "name": "stdout",
     "output_type": "stream",
     "text": [
      "Test Loss: 1.899 | Test Acc: 56.07%\n"
     ]
    }
   ],
   "source": [
    "## find the test accuracy of the model\n",
    "model.load_state_dict(torch.load('saved_weights.pt'))\n",
    "\n",
    "test_loss, test_acc = evaluate(model, test_iterator, criterion)\n",
    "\n",
    "print(f'Test Loss: {test_loss:.3f} | Test Acc: {test_acc*100:.2f}%')"
   ]
  },
  {
   "cell_type": "code",
   "execution_count": null,
   "id": "456aa8b1",
   "metadata": {},
   "outputs": [],
   "source": []
  }
 ],
 "metadata": {
  "kernelspec": {
   "display_name": "Python 3",
   "language": "python",
   "name": "python3"
  },
  "language_info": {
   "codemirror_mode": {
    "name": "ipython",
    "version": 3
   },
   "file_extension": ".py",
   "mimetype": "text/x-python",
   "name": "python",
   "nbconvert_exporter": "python",
   "pygments_lexer": "ipython3",
   "version": "3.6.13"
  }
 },
 "nbformat": 4,
 "nbformat_minor": 5
}
